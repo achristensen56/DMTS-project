{
 "cells": [
  {
   "cell_type": "code",
   "execution_count": 5,
   "metadata": {
    "collapsed": true
   },
   "outputs": [],
   "source": [
    "import numpy as np\n",
    "import theano\n",
    "import theano.tensor as TT\n",
    "import matplotlib.pyplot as plt\n",
    "%matplotlib inline"
   ]
  },
  {
   "cell_type": "code",
   "execution_count": 59,
   "metadata": {
    "collapsed": false
   },
   "outputs": [],
   "source": [
    "#number of hidden units\n",
    "nHidden = 20\n",
    "#number of inputs\n",
    "nInputs = 4\n",
    "#number of outputs\n",
    "nOutputs = 4\n",
    "\n",
    "#input (first dimension is time)\n",
    "u = TT.matrix(\"u\")\n",
    "#target (first dimension is time)\n",
    "t = TT.matrix(\"t\")\n",
    "#initial hidden state of the RNN \n",
    "h0 = TT.vector(\"h0\")\n",
    "#learning rate\n",
    "lr = TT.scalar(\"lr\")\n",
    "#recurrent weights as a shared variable\n",
    "W = theano.shared(np.random.uniform(size = (nHidden, nHidden), low = -.01, high = .01))\n",
    "#input to hidden layer weights\n",
    "W_in = theano.shared(np.random.uniform(size = (nInputs, nHidden), low = -.01, high = .01))\n",
    "#hidden to output layer weights\n",
    "W_out = theano.shared(np.random.uniform(size = (nHidden, nInputs), low = -.01, high = .01))\n",
    "\n",
    "#recurrent function (tanh) and tanh output activation function\n",
    "def step(u_t, h_tm1, W, W_in, W_out):\n",
    "    h_t = TT.tanh(TT.dot(u_t, W_in) + TT.dot(h_tm1, W))\n",
    "    y_t = TT.tanh(TT.dot(h_t, W_out))\n",
    "    return h_t, y_t"
   ]
  },
  {
   "cell_type": "code",
   "execution_count": 60,
   "metadata": {
    "collapsed": true
   },
   "outputs": [],
   "source": [
    "#hidden state for entire sequence and the output for the entire sequence\n",
    "[h, y], _ = theano.scan(step, \n",
    "                       sequences = u,\n",
    "                       outputs_info = [h0, None], \n",
    "                       non_sequences = [W, W_in, W_out])\n"
   ]
  },
  {
   "cell_type": "code",
   "execution_count": 61,
   "metadata": {
    "collapsed": false
   },
   "outputs": [
    {
     "name": "stderr",
     "output_type": "stream",
     "text": [
      "/Users/ameliachristensen/anaconda/lib/python2.7/site-packages/IPython/kernel/__main__.py:10: UserWarning: The parameter 'updates' of theano.function() expects an OrderedDict, got <type 'dict'>. Using a standard dictionary here results in non-deterministic behavior. You should use an OrderedDict if you are using Python 2.7 (theano.compat.python2x.OrderedDict for older python), or use a list of (shared, update) pairs. Do not just convert your dictionary to this type before the call as the conversion will still be non-deterministic.\n"
     ]
    }
   ],
   "source": [
    "# 1 step of sgd\n",
    "error = ((y-t)**2).sum()\n",
    "gW, gW_in, gW_out = TT.grad(error, [W, W_in, W_out])\n",
    "#training funciotn computs the gradients according to penalty in error...\n",
    "\n",
    "fn = theano.function([h0, u, t, lr], \n",
    "                    error, \n",
    "                    updates = {W: W - lr*gW,\n",
    "                              W_in: W_in - lr*gW_in,\n",
    "                              W_out: W_out - lr*gW_out})\n"
   ]
  },
  {
   "cell_type": "code",
   "execution_count": 72,
   "metadata": {
    "collapsed": false
   },
   "outputs": [],
   "source": [
    "#generate simulated data\n",
    "\n",
    "numExamples = 10000\n",
    "\n",
    "data = np.zeros([numExamples, 4])\n",
    "\n",
    "for i in xrange(0, numExamples, 3):\n",
    "    data[i] = np.random.randint(0, 2, [1,4])\n",
    "\n",
    "for i in xrange(3, numExamples, 6):\n",
    "    data[i][0] = 0\n",
    "    \n",
    "for i in xrange(0, numExamples, 6):\n",
    "    data[i][0] = 1\n",
    "    \n",
    "target = np.zeros([numExamples, 4])\n",
    "memory = np.zeros([1, 3])\n",
    "\n",
    "for idx, record in enumerate(data):\n",
    "    \n",
    "    if record[0] == 1:\n",
    "        memory = record[1:4]\n",
    "    elif all(memory == record[1:4]):\n",
    "        target[idx][0] = 1\n",
    "        \n",
    "    target[idx][1:4] = memory\n",
    "    \n",
    "#   print record, memory, target[idx]\n",
    "    \n",
    "init = np.random.randint(0, 2, [nHidden])    \n"
   ]
  },
  {
   "cell_type": "code",
   "execution_count": 76,
   "metadata": {
    "collapsed": false
   },
   "outputs": [],
   "source": [
    "err = np.zeros([numExamples, 1])\n",
    "for i in range(numExamples):\n",
    "    err[i] = fn(init, data, target, 0.01)"
   ]
  },
  {
   "cell_type": "code",
   "execution_count": 77,
   "metadata": {
    "collapsed": false
   },
   "outputs": [
    {
     "data": {
      "text/plain": [
       "[<matplotlib.lines.Line2D at 0x10b0c75d0>]"
      ]
     },
     "execution_count": 77,
     "metadata": {},
     "output_type": "execute_result"
    },
    {
     "data": {
      "image/png": "[encoded data removed]",
      "text/plain": [
       "<matplotlib.figure.Figure at 0x10a625750>"
      ]
     },
     "metadata": {},
     "output_type": "display_data"
    }
   ],
   "source": [
    "plt.plot(err)"
   ]
  }
 ],
 "metadata": {
  "kernelspec": {
   "display_name": "Python 2",
   "language": "python",
   "name": "python2"
  },
  "language_info": {
   "codemirror_mode": {
    "name": "ipython",
    "version": 2
   },
   "file_extension": ".py",
   "mimetype": "text/x-python",
   "name": "python",
   "nbconvert_exporter": "python",
   "pygments_lexer": "ipython2",
   "version": "2.7.10"
  }
 },
 "nbformat": 4,
 "nbformat_minor": 0
}
