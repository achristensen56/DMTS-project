{
 "cells": [
  {
   "cell_type": "code",
   "execution_count": 1,
   "metadata": {
    "collapsed": true
   },
   "outputs": [],
   "source": [
    "import numpy as np\n",
    "import theano\n",
    "import theano.tensor as TT\n",
    "import matplotlib.pyplot as plt\n",
    "%matplotlib inline"
   ]
  },
  {
   "cell_type": "code",
   "execution_count": 2,
   "metadata": {
    "collapsed": false
   },
   "outputs": [],
   "source": [
    "#number of hidden units\n",
    "nHidden = 10\n",
    "#number of inputs\n",
    "nInputs = 3\n",
    "#number of outputs\n",
    "nOutputs = 3\n",
    "\n",
    "#input (first dimension is time)\n",
    "u = TT.matrix(\"u\")\n",
    "#target (first dimension is time)\n",
    "t = TT.matrix(\"t\")\n",
    "#initial hidden state of the RNN \n",
    "h0 = TT.vector(\"h0\")\n",
    "#learning rate\n",
    "lr = TT.scalar(\"lr\")\n",
    "#recurrent weights as a shared variable\n",
    "W = theano.shared(np.random.uniform(size = (nHidden, nHidden), low = -.01, high = .01))\n",
    "#input to hidden layer weights\n",
    "W_in = theano.shared(np.random.uniform(size = (nInputs, nHidden), low = -.01, high = .01))\n",
    "#hidden to output layer weights\n",
    "W_out = theano.shared(np.random.uniform(size = (nHidden, nInputs), low = -.01, high = .01))\n",
    "\n",
    "#recurrent function (tanh) and tanh output activation function\n",
    "def step(u_t, h_tm1, W, W_in, W_out):\n",
    "    h_t = TT.nnet.sigmoid(TT.dot(u_t, W_in) + TT.dot(h_tm1, W))\n",
    "    y_t = TT.nnet.sigmoid(TT.dot(h_t, W_out))\n",
    "    return h_t, y_t"
   ]
  },
  {
   "cell_type": "code",
   "execution_count": 3,
   "metadata": {
    "collapsed": true
   },
   "outputs": [],
   "source": [
    "#hidden state for entire sequence and the output for the entire sequence\n",
    "[h, y], _ = theano.scan(step, \n",
    "                       sequences = u,\n",
    "                       outputs_info = [h0, None], \n",
    "                       non_sequences = [W, W_in, W_out])\n"
   ]
  },
  {
   "cell_type": "code",
   "execution_count": 4,
   "metadata": {
    "collapsed": false
   },
   "outputs": [
    {
     "name": "stderr",
     "output_type": "stream",
     "text": [
      "/Users/ameliachristensen/anaconda/lib/python2.7/site-packages/IPython/kernel/__main__.py:10: UserWarning: The parameter 'updates' of theano.function() expects an OrderedDict, got <type 'dict'>. Using a standard dictionary here results in non-deterministic behavior. You should use an OrderedDict if you are using Python 2.7 (theano.compat.python2x.OrderedDict for older python), or use a list of (shared, update) pairs. Do not just convert your dictionary to this type before the call as the conversion will still be non-deterministic.\n",
      "/Users/ameliachristensen/anaconda/lib/python2.7/site-packages/theano/scan_module/scan_perform_ext.py:133: RuntimeWarning: numpy.ndarray size changed, may indicate binary incompatibility\n",
      "  from scan_perform.scan_perform import *\n"
     ]
    }
   ],
   "source": [
    "# 1 step of sgd\n",
    "error = ((y-t)**2).sum()\n",
    "gW, gW_in, gW_out = TT.grad(error, [W, W_in, W_out])\n",
    "#training function computs the gradients according to penalty in error...\n",
    "\n",
    "fn = theano.function([h0, u, t, lr], \n",
    "                    [error, y], \n",
    "                    updates = {W: W - lr*gW,\n",
    "                              W_in: W_in - lr*gW_in,\n",
    "                              W_out: W_out - lr*gW_out})\n"
   ]
  },
  {
   "cell_type": "code",
   "execution_count": 72,
   "metadata": {
    "collapsed": false
   },
   "outputs": [
    {
     "name": "stdout",
     "output_type": "stream",
     "text": [
      "[ 1.    0.15  0.15] [ 0.    0.15  0.15]\n",
      "[ 0.   0.   0.5] [ 0.    0.15  0.15]\n",
      "[ 1.   0.5  1. ] [ 0.   0.5  1. ]\n",
      "[ 0.   0.5  1. ] [ 1.   0.5  1. ]\n",
      "[ 1.    0.15  0.85] [ 0.    0.15  0.85]\n",
      "[ 0.    0.15  0.15] [ 0.    0.15  0.85]\n",
      "[ 1.   0.5  0. ] [ 0.   0.5  0. ]\n",
      "[ 0.   0.5  0. ] [ 1.   0.5  0. ]\n",
      "[ 1.   0.5  0. ] [ 0.   0.5  0. ]\n",
      "[ 0.   0.5  0. ] [ 1.   0.5  0. ]\n"
     ]
    },
    {
     "ename": "IndexError",
     "evalue": "index 10 is out of bounds for axis 0 with size 10",
     "output_type": "error",
     "traceback": [
      "\u001b[0;31m---------------------------------------------------------------------------\u001b[0m",
      "\u001b[0;31mIndexError\u001b[0m                                Traceback (most recent call last)",
      "\u001b[0;32m<ipython-input-72-e63b0bedef9e>\u001b[0m in \u001b[0;36m<module>\u001b[0;34m()\u001b[0m\n\u001b[1;32m     43\u001b[0m \u001b[0;34m\u001b[0m\u001b[0m\n\u001b[1;32m     44\u001b[0m \u001b[0;32mfor\u001b[0m \u001b[0mi\u001b[0m \u001b[0;32min\u001b[0m \u001b[0mrange\u001b[0m\u001b[0;34m(\u001b[0m\u001b[0;36m100\u001b[0m\u001b[0;34m)\u001b[0m\u001b[0;34m:\u001b[0m\u001b[0;34m\u001b[0m\u001b[0m\n\u001b[0;32m---> 45\u001b[0;31m     \u001b[0;32mprint\u001b[0m \u001b[0mnp\u001b[0m\u001b[0;34m.\u001b[0m\u001b[0mround\u001b[0m\u001b[0;34m(\u001b[0m\u001b[0mdata\u001b[0m\u001b[0;34m[\u001b[0m\u001b[0mi\u001b[0m\u001b[0;34m]\u001b[0m\u001b[0;34m,\u001b[0m \u001b[0;36m2\u001b[0m\u001b[0;34m)\u001b[0m\u001b[0;34m,\u001b[0m \u001b[0mnp\u001b[0m\u001b[0;34m.\u001b[0m\u001b[0mround\u001b[0m\u001b[0;34m(\u001b[0m\u001b[0mtarget\u001b[0m\u001b[0;34m[\u001b[0m\u001b[0mi\u001b[0m\u001b[0;34m]\u001b[0m\u001b[0;34m,\u001b[0m \u001b[0;36m2\u001b[0m\u001b[0;34m)\u001b[0m\u001b[0;34m\u001b[0m\u001b[0m\n\u001b[0m\u001b[1;32m     46\u001b[0m \u001b[0;34m\u001b[0m\u001b[0m\n\u001b[1;32m     47\u001b[0m \u001b[0;34m\u001b[0m\u001b[0m\n",
      "\u001b[0;31mIndexError\u001b[0m: index 10 is out of bounds for axis 0 with size 10"
     ]
    }
   ],
   "source": [
    "#possible pairs:\n",
    "\n",
    "# (.5, 0)\n",
    "# (.8535, .1465)\n",
    "# (1, .5)\n",
    "# (.8535, .1465)\n",
    "# (.5, 1)\n",
    "# (.1465, .8535)\n",
    "# (0, .5)\n",
    "# (.1465, .1465)\n",
    "\n",
    "loc = [[.5, 0], [.8535, .1465], [1, .5], \n",
    "       [.8535, .1465], [.5, 1], [.1465, .8535],\n",
    "      [0, .5], [.1465, .1465]];\n",
    "\n",
    "\n",
    "\n",
    "#probability of a match\n",
    "p = .5\n",
    "numExamples = 10\n",
    "data = np.zeros([numExamples, 3])\n",
    "target = np.zeros([numExamples, 3])\n",
    "memory = [1, 2]\n",
    "\n",
    "for i in xrange(0, numExamples):\n",
    "   \n",
    "    if i % 2 == 0:\n",
    "        data[i][1:3] = loc[np.random.randint(0, 8)]\n",
    "        data[i][0] = 1\n",
    "        memory = data[i][1:3]\n",
    "        \n",
    "    target[i][1:3] = memory \n",
    "    \n",
    "    if i % 2 == 1:\n",
    "        if np.random.uniform()  >= p:\n",
    "            data[i][1:3] = loc[np.random.randint(0, 8)]\n",
    "        else:\n",
    "            data[i][1:3] = memory\n",
    "            \n",
    "        if all(data[i][1:3] == memory):\n",
    "            target[i][0] = 1\n",
    "    \n",
    "\n",
    "for i in range(100):\n",
    "    print np.round(data[i], 2), np.round(target[i], 2)\n",
    "    \n",
    "    \n",
    "init = np.random.uniform(low = 0, high = 1, size = [nHidden])    \n"
   ]
  },
  {
   "cell_type": "code",
   "execution_count": 73,
   "metadata": {
    "collapsed": false,
    "scrolled": true
   },
   "outputs": [
    {
     "name": "stdout",
     "output_type": "stream",
     "text": [
      "0.0286519053585\n"
     ]
    }
   ],
   "source": [
    "#set this to stop if error increases by a large amount\n",
    "\n",
    "err = []\n",
    "y_0 = np.zeros([10,3])\n",
    "targ = np.zeros([10, 3])\n",
    "\n",
    "#lets do minibatch\n",
    "lr = 0.005;\n",
    "\n",
    "for j in range(1):\n",
    "    t_err  = np.zeros([1, 10])\n",
    "    y_temp = np.zeros([10, 3])\n",
    "    \n",
    "    for i in xrange(0, 10, 10):\n",
    "        t_err[i%10], y_0 = fn(init, data[i:i+10], target[i:i+10], lr)\n",
    "        \n",
    "        targ = target[i:i+10]\n",
    "    \n",
    "    err.append(np.average(t_err))\n",
    "\n",
    "    print err[j]\n",
    "            "
   ]
  },
  {
   "cell_type": "code",
   "execution_count": 71,
   "metadata": {
    "collapsed": false
   },
   "outputs": [
    {
     "name": "stdout",
     "output_type": "stream",
     "text": [
      "sigmoid.0\n"
     ]
    }
   ],
   "source": []
  },
  {
   "cell_type": "code",
   "execution_count": 68,
   "metadata": {
    "collapsed": false
   },
   "outputs": [
    {
     "name": "stdout",
     "output_type": "stream",
     "text": [
      "[ 0.   0.5  0. ] [ 0.    0.51  0.04]\n",
      "[ 1.   0.5  0. ] [ 0.97  0.51  0.03]\n",
      "[ 0.    0.85  0.15] [ 0.    0.86  0.14]\n",
      "[ 0.    0.85  0.15] [ 0.01  0.84  0.14]\n",
      "[ 0.   0.   0.5] [ 0.    0.03  0.5 ]\n",
      "[ 1.   0.   0.5] [ 0.97  0.02  0.51]\n",
      "[ 0.    0.85  0.15] [ 0.    0.86  0.13]\n",
      "[ 1.    0.85  0.15] [ 0.99  0.86  0.14]\n",
      "[ 0.    0.85  0.15] [ 0.    0.86  0.15]\n",
      "[ 1.    0.85  0.15] [ 0.99  0.86  0.14]\n"
     ]
    }
   ],
   "source": [
    "for i in range(10):\n",
    "    print np.round(targ[i], 2),  np.round(y_0[i], 2)"
   ]
  },
  {
   "cell_type": "code",
   "execution_count": 56,
   "metadata": {
    "collapsed": false
   },
   "outputs": [
    {
     "data": {
      "text/plain": [
       "[<matplotlib.lines.Line2D at 0x111a38250>]"
      ]
     },
     "execution_count": 56,
     "metadata": {},
     "output_type": "execute_result"
    },
    {
     "data": {
      "image/png": "[encoded data removed]",
      "text/plain": [
       "<matplotlib.figure.Figure at 0x11192b790>"
      ]
     },
     "metadata": {},
     "output_type": "display_data"
    }
   ],
   "source": [
    "plt.plot(err)"
   ]
  },
  {
   "cell_type": "code",
   "execution_count": null,
   "metadata": {
    "collapsed": true
   },
   "outputs": [],
   "source": []
  }
 ],
 "metadata": {
  "kernelspec": {
   "display_name": "Python 2",
   "language": "python",
   "name": "python2"
  },
  "language_info": {
   "codemirror_mode": {
    "name": "ipython",
    "version": 2
   },
   "file_extension": ".py",
   "mimetype": "text/x-python",
   "name": "python",
   "nbconvert_exporter": "python",
   "pygments_lexer": "ipython2",
   "version": "2.7.10"
  }
 },
 "nbformat": 4,
 "nbformat_minor": 0
}
